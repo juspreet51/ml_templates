{
 "cells": [
  {
   "cell_type": "markdown",
   "id": "dbfd1456-3433-43c5-bd35-9241dd43c298",
   "metadata": {},
   "source": [
    "- Running local LLMs"
   ]
  },
  {
   "cell_type": "markdown",
   "id": "2c77cbd0-00a9-4af3-9c23-1645c8ac6926",
   "metadata": {},
   "source": [
    "### Example1"
   ]
  },
  {
   "cell_type": "code",
   "execution_count": 1,
   "id": "53da43bf-daa5-43c3-a40b-9722a3e7beb5",
   "metadata": {},
   "outputs": [],
   "source": [
    "# !pip install langchain_community\n",
    "\n",
    "# Import the necessary package\n",
    "from langchain_community.llms import Ollama\n",
    "\n",
    "# Create a model instance\n",
    "llm = Ollama(model=\"llama3\")"
   ]
  },
  {
   "cell_type": "code",
   "execution_count": 2,
   "id": "74ad30e1-1b5b-47c3-8a0f-6df240e4ddac",
   "metadata": {},
   "outputs": [
    {
     "data": {
      "text/plain": [
       "'Here is a possible bio for Alice:\\n\\nAlice is a 25-year-old engineer with a passion for solving complex problems and creating innovative solutions. As a driven and detail-oriented professional, she brings her technical expertise and creative mindset to her work, delivering high-quality results that exceed expectations.'"
      ]
     },
     "execution_count": 2,
     "metadata": {},
     "output_type": "execute_result"
    }
   ],
   "source": [
    "# Use the model with a prompt\n",
    "llm.invoke(\"Generate a short, 2-sentence bio for Alice, who is 25 years old and works as a Engineer\")"
   ]
  },
  {
   "cell_type": "markdown",
   "id": "67b17aee-87e3-44cc-bb3b-84daee7aa008",
   "metadata": {},
   "source": [
    "### Example2"
   ]
  },
  {
   "cell_type": "code",
   "execution_count": 3,
   "id": "63d6b6b0-e1b9-4481-b83e-9e6ff8437908",
   "metadata": {},
   "outputs": [
    {
     "data": {
      "text/html": [
       "<div>\n",
       "<style scoped>\n",
       "    .dataframe tbody tr th:only-of-type {\n",
       "        vertical-align: middle;\n",
       "    }\n",
       "\n",
       "    .dataframe tbody tr th {\n",
       "        vertical-align: top;\n",
       "    }\n",
       "\n",
       "    .dataframe thead th {\n",
       "        text-align: right;\n",
       "    }\n",
       "</style>\n",
       "<table border=\"1\" class=\"dataframe\">\n",
       "  <thead>\n",
       "    <tr style=\"text-align: right;\">\n",
       "      <th></th>\n",
       "      <th>name</th>\n",
       "      <th>age</th>\n",
       "      <th>occupation</th>\n",
       "    </tr>\n",
       "  </thead>\n",
       "  <tbody>\n",
       "    <tr>\n",
       "      <th>0</th>\n",
       "      <td>Alice</td>\n",
       "      <td>25</td>\n",
       "      <td>Engineer</td>\n",
       "    </tr>\n",
       "    <tr>\n",
       "      <th>1</th>\n",
       "      <td>Bob</td>\n",
       "      <td>30</td>\n",
       "      <td>Teacher</td>\n",
       "    </tr>\n",
       "    <tr>\n",
       "      <th>2</th>\n",
       "      <td>Charlie</td>\n",
       "      <td>35</td>\n",
       "      <td>Artist</td>\n",
       "    </tr>\n",
       "  </tbody>\n",
       "</table>\n",
       "</div>"
      ],
      "text/plain": [
       "      name  age occupation\n",
       "0    Alice   25   Engineer\n",
       "1      Bob   30    Teacher\n",
       "2  Charlie   35     Artist"
      ]
     },
     "execution_count": 3,
     "metadata": {},
     "output_type": "execute_result"
    }
   ],
   "source": [
    "import pandas as pd\n",
    "# Create a sample DataFrame\n",
    "df = pd.DataFrame({\n",
    "    'name': ['Alice', 'Bob', 'Charlie'],\n",
    "    'age': [25, 30, 35],\n",
    "    'occupation': ['Engineer', 'Teacher', 'Artist']\n",
    "})\n",
    "df"
   ]
  },
  {
   "cell_type": "code",
   "execution_count": 4,
   "id": "d90e43a9-26ca-4c23-a483-0232cf7fe5b8",
   "metadata": {},
   "outputs": [
    {
     "data": {
      "text/html": [
       "<div>\n",
       "<style scoped>\n",
       "    .dataframe tbody tr th:only-of-type {\n",
       "        vertical-align: middle;\n",
       "    }\n",
       "\n",
       "    .dataframe tbody tr th {\n",
       "        vertical-align: top;\n",
       "    }\n",
       "\n",
       "    .dataframe thead th {\n",
       "        text-align: right;\n",
       "    }\n",
       "</style>\n",
       "<table border=\"1\" class=\"dataframe\">\n",
       "  <thead>\n",
       "    <tr style=\"text-align: right;\">\n",
       "      <th></th>\n",
       "      <th>name</th>\n",
       "      <th>age</th>\n",
       "      <th>occupation</th>\n",
       "      <th>bio</th>\n",
       "    </tr>\n",
       "  </thead>\n",
       "  <tbody>\n",
       "    <tr>\n",
       "      <th>0</th>\n",
       "      <td>Alice</td>\n",
       "      <td>25</td>\n",
       "      <td>Engineer</td>\n",
       "      <td>Here is a short bio for Alice:\\n\\nAlice is a b...</td>\n",
       "    </tr>\n",
       "    <tr>\n",
       "      <th>1</th>\n",
       "      <td>Bob</td>\n",
       "      <td>30</td>\n",
       "      <td>Teacher</td>\n",
       "      <td>Here is a short, 2-sentence bio for Bob:\\n\\nBo...</td>\n",
       "    </tr>\n",
       "    <tr>\n",
       "      <th>2</th>\n",
       "      <td>Charlie</td>\n",
       "      <td>35</td>\n",
       "      <td>Artist</td>\n",
       "      <td>Here is a short bio for Charlie:\\n\\nAs a 35-ye...</td>\n",
       "    </tr>\n",
       "  </tbody>\n",
       "</table>\n",
       "</div>"
      ],
      "text/plain": [
       "      name  age occupation                                                bio\n",
       "0    Alice   25   Engineer  Here is a short bio for Alice:\\n\\nAlice is a b...\n",
       "1      Bob   30    Teacher  Here is a short, 2-sentence bio for Bob:\\n\\nBo...\n",
       "2  Charlie   35     Artist  Here is a short bio for Charlie:\\n\\nAs a 35-ye..."
      ]
     },
     "execution_count": 4,
     "metadata": {},
     "output_type": "execute_result"
    }
   ],
   "source": [
    "# Create a function which can be applied to the dataframe\n",
    "def generate_bio(name, age, occupation):\n",
    "    prompt = f\"Generate a short, 2-sentence bio for {name}, who is {age} years old and works as a {occupation}\"\n",
    "    return llm.invoke(prompt)\n",
    "\n",
    "# Apply the function to the dataframe\n",
    "df['bio'] = df.apply(lambda row: generate_bio(row['name'], row['age'], row['occupation']), axis=1)\n",
    "\n",
    "df.head()"
   ]
  },
  {
   "cell_type": "code",
   "execution_count": null,
   "id": "7214359b-a8ef-43b6-ae2c-e3aecbd37da9",
   "metadata": {},
   "outputs": [],
   "source": []
  }
 ],
 "metadata": {
  "kernelspec": {
   "display_name": "Python 3 (ipykernel)",
   "language": "python",
   "name": "python3"
  },
  "language_info": {
   "codemirror_mode": {
    "name": "ipython",
    "version": 3
   },
   "file_extension": ".py",
   "mimetype": "text/x-python",
   "name": "python",
   "nbconvert_exporter": "python",
   "pygments_lexer": "ipython3",
   "version": "3.12.3"
  }
 },
 "nbformat": 4,
 "nbformat_minor": 5
}
