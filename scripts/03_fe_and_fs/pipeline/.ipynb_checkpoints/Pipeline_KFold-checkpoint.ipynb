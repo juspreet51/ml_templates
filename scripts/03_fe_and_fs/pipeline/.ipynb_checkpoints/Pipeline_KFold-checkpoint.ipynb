{
 "cells": [
  {
   "cell_type": "code",
   "execution_count": 1,
   "id": "61a2766b-eed4-4bf9-9de4-51dd715495ef",
   "metadata": {},
   "outputs": [],
   "source": [
    "from sklearn.datasets import load_iris\n",
    "from sklearn.ensemble import RandomForestClassifier\n",
    "from sklearn.preprocessing import StandardScaler\n",
    "from sklearn.pipeline import Pipeline\n",
    "from sklearn.model_selection import KFold, cross_val_score"
   ]
  },
  {
   "cell_type": "code",
   "execution_count": 2,
   "id": "44fb39b9-df20-4db6-9810-6899566146b8",
   "metadata": {},
   "outputs": [],
   "source": [
    "iris = load_iris()\n",
    "X, y = iris.data, iris.target"
   ]
  },
  {
   "cell_type": "code",
   "execution_count": 3,
   "id": "42f8847c-a1ea-4ffe-9515-e2f530cdeca9",
   "metadata": {},
   "outputs": [],
   "source": [
    "# Define a pipeline to search for the best combination of preprocessing steps and classifier parameters\n",
    "pipe = Pipeline([\n",
    "    ('scaler', StandardScaler()),  # Step1 - normalize data\n",
    "    ('classifier', RandomForestClassifier())  # Step2 - classifier\n",
    "])"
   ]
  },
  {
   "cell_type": "code",
   "execution_count": 4,
   "id": "c3f28bf5-c4be-4adf-ab14-29dd0772edc2",
   "metadata": {},
   "outputs": [],
   "source": [
    "kf = KFold(n_splits=5, shuffle=True, random_state=42)"
   ]
  },
  {
   "cell_type": "code",
   "execution_count": 5,
   "id": "924f26ed-2c9f-4f95-8355-4fd1ea1049a1",
   "metadata": {},
   "outputs": [],
   "source": [
    "# Apply KFold cross-validation on the dataset using the pipeline\n",
    "cv_results = cross_val_score(pipe, X, y, cv=kf, scoring=\"accuracy\")"
   ]
  },
  {
   "cell_type": "code",
   "execution_count": 6,
   "id": "9f4909df-7d9f-46f7-b812-789c76804769",
   "metadata": {},
   "outputs": [
    {
     "name": "stdout",
     "output_type": "stream",
     "text": [
      "Mean accuracy: 0.9600000000000002, Standard Deviation: 0.024944382578492935\n"
     ]
    }
   ],
   "source": [
    "# Display the mean and standard deviation of the accuracy for each fold\n",
    "print(f\"Mean accuracy: {cv_results.mean()}, Standard Deviation: {cv_results.std()}\")"
   ]
  },
  {
   "cell_type": "code",
   "execution_count": null,
   "id": "68105a93-2076-41e3-8720-acddab2f2b5d",
   "metadata": {},
   "outputs": [],
   "source": []
  }
 ],
 "metadata": {
  "kernelspec": {
   "display_name": "Python 3 (ipykernel)",
   "language": "python",
   "name": "python3"
  },
  "language_info": {
   "codemirror_mode": {
    "name": "ipython",
    "version": 3
   },
   "file_extension": ".py",
   "mimetype": "text/x-python",
   "name": "python",
   "nbconvert_exporter": "python",
   "pygments_lexer": "ipython3",
   "version": "3.11.5"
  }
 },
 "nbformat": 4,
 "nbformat_minor": 5
}
