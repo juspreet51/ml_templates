{
 "cells": [
  {
   "cell_type": "markdown",
   "id": "9e8ee3c4-beab-4ec5-845c-9be3fa1fc192",
   "metadata": {},
   "source": [
    "- Source Blog: Bex T.'s [Blog](https://towardsdatascience.com/how-to-use-sklearn-pipelines-for-ridiculously-neat-code-a61ab66ca90d)\n",
    "- Dataset: [Ames Housing dataset](https://www.kaggle.com/c/home-data-for-ml-course/data?select=train.csv)"
   ]
  },
  {
   "cell_type": "code",
   "execution_count": 1,
   "id": "0a9c19a4-51f8-4386-a8ae-80df6a8bda0c",
   "metadata": {
    "tags": []
   },
   "outputs": [],
   "source": [
    "import pandas as pd\n",
    "import numpy as np\n",
    "\n",
    "from sklearn.model_selection import train_test_split\n",
    "from sklearn.impute import SimpleImputer\n",
    "from sklearn.preprocessing import OneHotEncoder, MinMaxScaler\n",
    "from sklearn.pipeline import Pipeline\n",
    "from sklearn.compose import ColumnTransformer\n",
    "from sklearn.linear_model import Lasso\n",
    "from sklearn.metrics import mean_absolute_error"
   ]
  },
  {
   "cell_type": "code",
   "execution_count": 2,
   "id": "0c649bfa-1df4-4a37-add9-a84019a14392",
   "metadata": {},
   "outputs": [],
   "source": [
    "train = pd.read_csv('data/train.csv')\n",
    "X_test = pd.read_csv('data/test.csv')"
   ]
  },
  {
   "cell_type": "code",
   "execution_count": 3,
   "id": "36f705e4-2d61-419a-b800-f6ae9b414f77",
   "metadata": {
    "tags": []
   },
   "outputs": [],
   "source": [
    "X = train.drop('SalePrice', axis=1)\n",
    "y = train.SalePrice\n",
    "\n",
    "X_train, X_valid, y_train, y_valid = train_test_split(X, y, test_size=.3, random_state=42)"
   ]
  },
  {
   "cell_type": "markdown",
   "id": "e0093171-38f5-4bd1-b0fe-6344a8993b64",
   "metadata": {},
   "source": [
    "> `Numerical` & `Categorical` Features: contain the respective names of columns from `X_train`"
   ]
  },
  {
   "cell_type": "code",
   "execution_count": 4,
   "id": "1caae9d1-6f42-4bab-9da4-49539b195225",
   "metadata": {
    "tags": []
   },
   "outputs": [],
   "source": [
    "numerical_features = X_train.select_dtypes(include='number').columns.tolist()\n",
    "categorical_features = X_train.select_dtypes(exclude='number').columns.tolist()"
   ]
  },
  {
   "cell_type": "markdown",
   "id": "82dcda4b-ad2c-4011-80bf-eb1d9f69f67d",
   "metadata": {},
   "source": [
    "> Numerical Column's Transformation"
   ]
  },
  {
   "cell_type": "code",
   "execution_count": 5,
   "id": "7d9cb52d-dd96-4e3f-a5ab-ff3027682b87",
   "metadata": {},
   "outputs": [],
   "source": [
    "numeric_pipeline = Pipeline(steps=[\n",
    "    ('impute', SimpleImputer(strategy='mean')),\n",
    "    ('scale', MinMaxScaler())\n",
    "])\n",
    "\n",
    "# Set handle_unknown to ignore to skip previously unseen labels. Otherwise, OneHotEncoder throws an\n",
    "# error if there are labels in test set that are not in train set\n",
    "categorical_pipeline = Pipeline(steps=[\n",
    "    ('impute', SimpleImputer(strategy='most_frequent')),\n",
    "    ('one-hot', OneHotEncoder(handle_unknown='ignore', sparse=False))\n",
    "])"
   ]
  },
  {
   "cell_type": "markdown",
   "id": "ae9a94d7-20b4-4348-8596-67e0d41c8e53",
   "metadata": {},
   "source": [
    "`Column Transformer`"
   ]
  },
  {
   "cell_type": "code",
   "execution_count": 6,
   "id": "02f72360-ff7d-4a59-8185-e26efc5f0619",
   "metadata": {
    "tags": []
   },
   "outputs": [
    {
     "name": "stderr",
     "output_type": "stream",
     "text": [
      "C:\\Users\\aijas\\anaconda3\\envs\\xgboost\\Lib\\site-packages\\sklearn\\preprocessing\\_encoders.py:975: FutureWarning: `sparse` was renamed to `sparse_output` in version 1.2 and will be removed in 1.4. `sparse_output` is ignored unless you leave `sparse` to its default value.\n",
      "  warnings.warn(\n"
     ]
    },
    {
     "data": {
      "text/plain": [
       "array([[0.09252913, 0.        , 0.20205479, ..., 0.        , 1.        ,\n",
       "        0.        ],\n",
       "       [0.99520219, 0.94117647, 0.04794521, ..., 0.        , 1.        ,\n",
       "        0.        ],\n",
       "       [0.52227553, 0.23529412, 0.17465753, ..., 0.        , 1.        ,\n",
       "        0.        ],\n",
       "       ...,\n",
       "       [0.88690884, 0.        , 0.13356164, ..., 0.        , 1.        ,\n",
       "        0.        ],\n",
       "       [0.58944483, 0.17647059, 0.11643836, ..., 0.        , 1.        ,\n",
       "        0.        ],\n",
       "       [0.77176148, 0.58823529, 0.10958904, ..., 0.        , 1.        ,\n",
       "        0.        ]])"
      ]
     },
     "execution_count": 6,
     "metadata": {},
     "output_type": "execute_result"
    }
   ],
   "source": [
    "full_processor = ColumnTransformer(transformers=[\n",
    "    ('number', numeric_pipeline, numerical_features),\n",
    "    ('category', categorical_pipeline, categorical_features)\n",
    "])\n",
    "full_processor.fit_transform(X_train)"
   ]
  },
  {
   "cell_type": "code",
   "execution_count": 7,
   "id": "13ad06f7-5417-4ce2-87ae-847318bc563b",
   "metadata": {
    "tags": []
   },
   "outputs": [],
   "source": [
    "lasso = Lasso(alpha=0.1)"
   ]
  },
  {
   "cell_type": "markdown",
   "id": "795891e6-e070-4b70-ad33-99c4ef4d0653",
   "metadata": {},
   "source": [
    "`sklearn.pipeline.Pipeline class `: ('name_of_transformer`, transformer)"
   ]
  },
  {
   "cell_type": "code",
   "execution_count": 8,
   "id": "1f9fe8a6-b0ae-4f6e-b3b1-9d4faa85fe9a",
   "metadata": {
    "tags": []
   },
   "outputs": [
    {
     "name": "stderr",
     "output_type": "stream",
     "text": [
      "C:\\Users\\aijas\\anaconda3\\envs\\xgboost\\Lib\\site-packages\\sklearn\\preprocessing\\_encoders.py:975: FutureWarning: `sparse` was renamed to `sparse_output` in version 1.2 and will be removed in 1.4. `sparse_output` is ignored unless you leave `sparse` to its default value.\n",
      "  warnings.warn(\n",
      "C:\\Users\\aijas\\anaconda3\\envs\\xgboost\\Lib\\site-packages\\sklearn\\linear_model\\_coordinate_descent.py:628: ConvergenceWarning: Objective did not converge. You might want to increase the number of iterations, check the scale of the features or consider increasing regularisation. Duality gap: 5.874e+10, tolerance: 6.151e+08\n",
      "  model = cd_fast.enet_coordinate_descent(\n"
     ]
    }
   ],
   "source": [
    "# Warning! The order of steps matter! The estimator should always be the last step for the pipeline to work correctly\n",
    "lasso_pipeline = Pipeline(steps=[\n",
    "    ('preprocess', full_processor),\n",
    "    ('model', lasso)\n",
    "])\n",
    "_ = lasso_pipeline.fit(X_train, y_train)\n",
    "preds = lasso_pipeline.predict(X_valid)"
   ]
  },
  {
   "cell_type": "markdown",
   "id": "6d3d540a-73bb-40b7-9f28-4ca747158f15",
   "metadata": {},
   "source": [
    "> Evaluate our model"
   ]
  },
  {
   "cell_type": "code",
   "execution_count": 9,
   "id": "0714ff8b-9700-4456-8c92-03955119f2c2",
   "metadata": {
    "tags": []
   },
   "outputs": [
    {
     "name": "stdout",
     "output_type": "stream",
     "text": [
      "MAE: 17925.609664388747\n"
     ]
    },
    {
     "data": {
      "text/plain": [
       "0.8948472358936015"
      ]
     },
     "execution_count": 9,
     "metadata": {},
     "output_type": "execute_result"
    }
   ],
   "source": [
    "reds = lasso_pipeline.predict(X_valid)\n",
    "print(f\"MAE: {mean_absolute_error(y_valid, preds)}\")\n",
    "lasso_pipeline.score(X_valid, y_valid)"
   ]
  },
  {
   "cell_type": "code",
   "execution_count": null,
   "id": "6b516712-ac8f-4b1f-bca5-5f8664d4c4fa",
   "metadata": {},
   "outputs": [],
   "source": []
  }
 ],
 "metadata": {
  "kernelspec": {
   "display_name": "Python 3 (ipykernel)",
   "language": "python",
   "name": "python3"
  },
  "language_info": {
   "codemirror_mode": {
    "name": "ipython",
    "version": 3
   },
   "file_extension": ".py",
   "mimetype": "text/x-python",
   "name": "python",
   "nbconvert_exporter": "python",
   "pygments_lexer": "ipython3",
   "version": "3.11.5"
  }
 },
 "nbformat": 4,
 "nbformat_minor": 5
}
